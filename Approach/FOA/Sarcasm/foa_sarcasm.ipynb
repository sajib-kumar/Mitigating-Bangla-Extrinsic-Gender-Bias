{
  "cells": [
    {
      "cell_type": "markdown",
      "metadata": {
        "id": "Xrl5jB-tRKUD"
      },
      "source": [
        "# Mode Selection\n",
        "Set finetuning = 1 if you want to finetune, or set finetuning = 0 if you want to just load the saved model to get inference."
      ]
    },
    {
      "cell_type": "code",
      "execution_count": 1,
      "metadata": {
        "execution": {
          "iopub.execute_input": "2025-04-03T20:49:35.321867Z",
          "iopub.status.busy": "2025-04-03T20:49:35.321481Z",
          "iopub.status.idle": "2025-04-03T20:49:35.325705Z",
          "shell.execute_reply": "2025-04-03T20:49:35.324804Z",
          "shell.execute_reply.started": "2025-04-03T20:49:35.321837Z"
        },
        "id": "nHQlVDO4ROqQ",
        "trusted": true
      },
      "outputs": [],
      "source": [
        "finetuning = 1\n",
        "inference = not finetuning"
      ]
    },
    {
      "cell_type": "markdown",
      "metadata": {
        "id": "LFKUrTJIFI-P"
      },
      "source": [
        "# Drive Mount"
      ]
    },
    {
      "cell_type": "code",
      "execution_count": 2,
      "metadata": {
        "colab": {
          "base_uri": "https://localhost:8080/"
        },
        "execution": {
          "iopub.execute_input": "2025-04-03T20:49:35.328477Z",
          "iopub.status.busy": "2025-04-03T20:49:35.328212Z",
          "iopub.status.idle": "2025-04-03T20:49:35.346365Z",
          "shell.execute_reply": "2025-04-03T20:49:35.345575Z",
          "shell.execute_reply.started": "2025-04-03T20:49:35.328454Z"
        },
        "id": "OY2UNuNNXFSm",
        "outputId": "5a77bc8d-3b21-426b-ed18-ba9192bf33d3",
        "trusted": true
      },
      "outputs": [],
      "source": [
        "# from google.colab import drive\n",
        "# drive.mount('/content/drive')"
      ]
    },
    {
      "cell_type": "markdown",
      "metadata": {
        "id": "hIsPn5AfFOAh"
      },
      "source": [
        "# Read Data"
      ]
    },
    {
      "cell_type": "code",
      "execution_count": 4,
      "metadata": {
        "colab": {
          "base_uri": "https://localhost:8080/",
          "height": 423
        },
        "execution": {
          "iopub.execute_input": "2025-04-03T20:49:35.347787Z",
          "iopub.status.busy": "2025-04-03T20:49:35.347422Z",
          "iopub.status.idle": "2025-04-03T20:49:35.812543Z",
          "shell.execute_reply": "2025-04-03T20:49:35.811514Z",
          "shell.execute_reply.started": "2025-04-03T20:49:35.347757Z"
        },
        "id": "aqM0Tr_zlT-w",
        "outputId": "2f071f4f-89ab-4f34-e8c7-578052e4c604",
        "trusted": true
      },
      "outputs": [
        {
          "data": {
            "text/html": [
              "<div>\n",
              "<style scoped>\n",
              "    .dataframe tbody tr th:only-of-type {\n",
              "        vertical-align: middle;\n",
              "    }\n",
              "\n",
              "    .dataframe tbody tr th {\n",
              "        vertical-align: top;\n",
              "    }\n",
              "\n",
              "    .dataframe thead th {\n",
              "        text-align: right;\n",
              "    }\n",
              "</style>\n",
              "<table border=\"1\" class=\"dataframe\">\n",
              "  <thead>\n",
              "    <tr style=\"text-align: right;\">\n",
              "      <th></th>\n",
              "      <th>male</th>\n",
              "      <th>female</th>\n",
              "      <th>_original_label</th>\n",
              "      <th>test</th>\n",
              "    </tr>\n",
              "  </thead>\n",
              "  <tbody>\n",
              "    <tr>\n",
              "      <th>0</th>\n",
              "      <td>ভাই মিথ্যা কথা বইলেন না আপনি ভিপিএন ইউজ করে পো...</td>\n",
              "      <td>আফা মিথ্যা কথা বইলেন না আপনি ভিপিএন ইউজ করে পো...</td>\n",
              "      <td>1</td>\n",
              "      <td>0</td>\n",
              "    </tr>\n",
              "    <tr>\n",
              "      <th>1</th>\n",
              "      <td>ভাই মিথ্যা কথা বইলেন না আপনি ভিপিএন ইউজ করে পো...</td>\n",
              "      <td>বোন মিথ্যা কথা বইলেন না আপনি ভিপিএন ইউজ করে পো...</td>\n",
              "      <td>1</td>\n",
              "      <td>0</td>\n",
              "    </tr>\n",
              "    <tr>\n",
              "      <th>2</th>\n",
              "      <td>ভাই মিথ্যা কথা বইলেন না আপনি ভিপিএন ইউজ করে পো...</td>\n",
              "      <td>ভাবী মিথ্যা কথা বইলেন না আপনি ভিপিএন ইউজ করে প...</td>\n",
              "      <td>1</td>\n",
              "      <td>1</td>\n",
              "    </tr>\n",
              "    <tr>\n",
              "      <th>3</th>\n",
              "      <td>নিশ্চয়  সাংবাদিককে কোনো কিছু দেওয়ার প্রতিশ্রুত...</td>\n",
              "      <td>নিশ্চয় মহিলা সাংবাদিককে কোনো কিছু দেওয়ার প্রতি...</td>\n",
              "      <td>1</td>\n",
              "      <td>0</td>\n",
              "    </tr>\n",
              "    <tr>\n",
              "      <th>4</th>\n",
              "      <td>দুইদিন বৃষ্টিতে একটু সুস্থ হইছে । ভাদ্র মাসের ...</td>\n",
              "      <td>দুইদিন বৃষ্টিতে একটু সুস্থ হইছে  ।  ভাদ্র মাসে...</td>\n",
              "      <td>1</td>\n",
              "      <td>0</td>\n",
              "    </tr>\n",
              "    <tr>\n",
              "      <th>...</th>\n",
              "      <td>...</td>\n",
              "      <td>...</td>\n",
              "      <td>...</td>\n",
              "      <td>...</td>\n",
              "    </tr>\n",
              "    <tr>\n",
              "      <th>9245</th>\n",
              "      <td>ডিজিটাল মিটার চালু হইছে তো ভাই অনেক আগে থেকে ত...</td>\n",
              "      <td>ডিজিটাল মিটার চালু হইছে তো আফা অনেক আগে থেকে ত...</td>\n",
              "      <td>0</td>\n",
              "      <td>1</td>\n",
              "    </tr>\n",
              "    <tr>\n",
              "      <th>9246</th>\n",
              "      <td>ডিজিটাল মিটার চালু হইছে তো ভাই অনেক আগে থেকে ত...</td>\n",
              "      <td>ডিজিটাল মিটার চালু হইছে তো বোন অনেক আগে থেকে ত...</td>\n",
              "      <td>0</td>\n",
              "      <td>1</td>\n",
              "    </tr>\n",
              "    <tr>\n",
              "      <th>9247</th>\n",
              "      <td>ডিজিটাল মিটার চালু হইছে তো ভাই অনেক আগে থেকে ত...</td>\n",
              "      <td>ডিজিটাল মিটার চালু হইছে তো ভাবী অনেক আগে থেকে ...</td>\n",
              "      <td>0</td>\n",
              "      <td>0</td>\n",
              "    </tr>\n",
              "    <tr>\n",
              "      <th>9248</th>\n",
              "      <td>আমরা ঢাকাবাসীর গৌরবান্বিত যে টাইগার সম্রাট সাক...</td>\n",
              "      <td>আমরা ঢাকাবাসীর গৌরবান্বিত যে টাইগার সম্রাজ্ঞী ...</td>\n",
              "      <td>0</td>\n",
              "      <td>0</td>\n",
              "    </tr>\n",
              "    <tr>\n",
              "      <th>9249</th>\n",
              "      <td>অনেক দিন পরে আপনারা একটা মূল্যবান সংবাদ প্রকাশ...</td>\n",
              "      <td>অনেক দিন পরে আপনারা একটা মূল্যবান সংবাদ প্রকাশ...</td>\n",
              "      <td>0</td>\n",
              "      <td>1</td>\n",
              "    </tr>\n",
              "  </tbody>\n",
              "</table>\n",
              "<p>9250 rows × 4 columns</p>\n",
              "</div>"
            ],
            "text/plain": [
              "                                                   male  \\\n",
              "0     ভাই মিথ্যা কথা বইলেন না আপনি ভিপিএন ইউজ করে পো...   \n",
              "1     ভাই মিথ্যা কথা বইলেন না আপনি ভিপিএন ইউজ করে পো...   \n",
              "2     ভাই মিথ্যা কথা বইলেন না আপনি ভিপিএন ইউজ করে পো...   \n",
              "3     নিশ্চয়  সাংবাদিককে কোনো কিছু দেওয়ার প্রতিশ্রুত...   \n",
              "4     দুইদিন বৃষ্টিতে একটু সুস্থ হইছে । ভাদ্র মাসের ...   \n",
              "...                                                 ...   \n",
              "9245  ডিজিটাল মিটার চালু হইছে তো ভাই অনেক আগে থেকে ত...   \n",
              "9246  ডিজিটাল মিটার চালু হইছে তো ভাই অনেক আগে থেকে ত...   \n",
              "9247  ডিজিটাল মিটার চালু হইছে তো ভাই অনেক আগে থেকে ত...   \n",
              "9248  আমরা ঢাকাবাসীর গৌরবান্বিত যে টাইগার সম্রাট সাক...   \n",
              "9249  অনেক দিন পরে আপনারা একটা মূল্যবান সংবাদ প্রকাশ...   \n",
              "\n",
              "                                                 female  _original_label  test  \n",
              "0     আফা মিথ্যা কথা বইলেন না আপনি ভিপিএন ইউজ করে পো...                1     0  \n",
              "1     বোন মিথ্যা কথা বইলেন না আপনি ভিপিএন ইউজ করে পো...                1     0  \n",
              "2     ভাবী মিথ্যা কথা বইলেন না আপনি ভিপিএন ইউজ করে প...                1     1  \n",
              "3     নিশ্চয় মহিলা সাংবাদিককে কোনো কিছু দেওয়ার প্রতি...                1     0  \n",
              "4     দুইদিন বৃষ্টিতে একটু সুস্থ হইছে  ।  ভাদ্র মাসে...                1     0  \n",
              "...                                                 ...              ...   ...  \n",
              "9245  ডিজিটাল মিটার চালু হইছে তো আফা অনেক আগে থেকে ত...                0     1  \n",
              "9246  ডিজিটাল মিটার চালু হইছে তো বোন অনেক আগে থেকে ত...                0     1  \n",
              "9247  ডিজিটাল মিটার চালু হইছে তো ভাবী অনেক আগে থেকে ...                0     0  \n",
              "9248  আমরা ঢাকাবাসীর গৌরবান্বিত যে টাইগার সম্রাজ্ঞী ...                0     0  \n",
              "9249  অনেক দিন পরে আপনারা একটা মূল্যবান সংবাদ প্রকাশ...                0     1  \n",
              "\n",
              "[9250 rows x 4 columns]"
            ]
          },
          "execution_count": 4,
          "metadata": {},
          "output_type": "execute_result"
        }
      ],
      "source": [
        "import pandas as pd\n",
        "# data = pd.read_csv('/content/drive/MyDrive/#Research/# GB/train_test_sarcasm_data_mod.csv')\n",
        "data = pd.read_csv('train_test_sarcasm_data_mod.csv')\n",
        "data"
      ]
    },
    {
      "cell_type": "markdown",
      "metadata": {
        "id": "cEf6-9-SjUs-"
      },
      "source": [
        "# Train, Test, Validation Split\n",
        "We are going to consider the data as test data if the prediction between original sentence and NER converted sentence become unequal."
      ]
    },
    {
      "cell_type": "code",
      "execution_count": 5,
      "metadata": {
        "execution": {
          "iopub.execute_input": "2025-04-03T20:49:35.814742Z",
          "iopub.status.busy": "2025-04-03T20:49:35.814438Z",
          "iopub.status.idle": "2025-04-03T20:49:35.820918Z",
          "shell.execute_reply": "2025-04-03T20:49:35.820161Z",
          "shell.execute_reply.started": "2025-04-03T20:49:35.814720Z"
        },
        "id": "owR4v6Pb0S0_",
        "trusted": true
      },
      "outputs": [],
      "source": [
        "temp = data[data['test']!= 1]\n",
        "test = data[data['test']== 1]"
      ]
    },
    {
      "cell_type": "code",
      "execution_count": 6,
      "metadata": {
        "colab": {
          "base_uri": "https://localhost:8080/"
        },
        "execution": {
          "iopub.execute_input": "2025-04-03T20:49:35.822921Z",
          "iopub.status.busy": "2025-04-03T20:49:35.822441Z",
          "iopub.status.idle": "2025-04-03T20:49:35.839014Z",
          "shell.execute_reply": "2025-04-03T20:49:35.838110Z",
          "shell.execute_reply.started": "2025-04-03T20:49:35.822882Z"
        },
        "id": "0xzsYDRJe821",
        "outputId": "cd515e12-915d-450d-98ba-47c83b15bc23",
        "trusted": true
      },
      "outputs": [
        {
          "data": {
            "text/plain": [
              "(7400, 1850)"
            ]
          },
          "execution_count": 6,
          "metadata": {},
          "output_type": "execute_result"
        }
      ],
      "source": [
        "len(temp), len(test)"
      ]
    },
    {
      "cell_type": "code",
      "execution_count": 7,
      "metadata": {
        "colab": {
          "base_uri": "https://localhost:8080/",
          "height": 423
        },
        "execution": {
          "iopub.execute_input": "2025-04-03T20:49:35.840470Z",
          "iopub.status.busy": "2025-04-03T20:49:35.840107Z",
          "iopub.status.idle": "2025-04-03T20:49:35.866976Z",
          "shell.execute_reply": "2025-04-03T20:49:35.866003Z",
          "shell.execute_reply.started": "2025-04-03T20:49:35.840439Z"
        },
        "id": "z2aw_gN328TO",
        "outputId": "68f7afd0-1a8d-471b-fe7a-7ffc083e6350",
        "trusted": true
      },
      "outputs": [
        {
          "data": {
            "text/html": [
              "<div>\n",
              "<style scoped>\n",
              "    .dataframe tbody tr th:only-of-type {\n",
              "        vertical-align: middle;\n",
              "    }\n",
              "\n",
              "    .dataframe tbody tr th {\n",
              "        vertical-align: top;\n",
              "    }\n",
              "\n",
              "    .dataframe thead th {\n",
              "        text-align: right;\n",
              "    }\n",
              "</style>\n",
              "<table border=\"1\" class=\"dataframe\">\n",
              "  <thead>\n",
              "    <tr style=\"text-align: right;\">\n",
              "      <th></th>\n",
              "      <th>male</th>\n",
              "      <th>_original_label</th>\n",
              "    </tr>\n",
              "  </thead>\n",
              "  <tbody>\n",
              "    <tr>\n",
              "      <th>0</th>\n",
              "      <td>ভাই মিথ্যা কথা বইলেন না আপনি ভিপিএন ইউজ করে পো...</td>\n",
              "      <td>1</td>\n",
              "    </tr>\n",
              "    <tr>\n",
              "      <th>1</th>\n",
              "      <td>ভাই মিথ্যা কথা বইলেন না আপনি ভিপিএন ইউজ করে পো...</td>\n",
              "      <td>1</td>\n",
              "    </tr>\n",
              "    <tr>\n",
              "      <th>3</th>\n",
              "      <td>নিশ্চয়  সাংবাদিককে কোনো কিছু দেওয়ার প্রতিশ্রুত...</td>\n",
              "      <td>1</td>\n",
              "    </tr>\n",
              "    <tr>\n",
              "      <th>4</th>\n",
              "      <td>দুইদিন বৃষ্টিতে একটু সুস্থ হইছে । ভাদ্র মাসের ...</td>\n",
              "      <td>1</td>\n",
              "    </tr>\n",
              "    <tr>\n",
              "      <th>5</th>\n",
              "      <td>দুইদিন বৃষ্টিতে একটু সুস্থ হইছে । ভাদ্র মাসের ...</td>\n",
              "      <td>1</td>\n",
              "    </tr>\n",
              "    <tr>\n",
              "      <th>...</th>\n",
              "      <td>...</td>\n",
              "      <td>...</td>\n",
              "    </tr>\n",
              "    <tr>\n",
              "      <th>9240</th>\n",
              "      <td>মিথ্যা কথা  ।  এই স্ত্রীলোক মনে হয় সেরামের কাছ...</td>\n",
              "      <td>0</td>\n",
              "    </tr>\n",
              "    <tr>\n",
              "      <th>9241</th>\n",
              "      <td>মিথ্যা কথা  ।  এই মহিলা মনে হয় সেরামের কাছ থেক...</td>\n",
              "      <td>0</td>\n",
              "    </tr>\n",
              "    <tr>\n",
              "      <th>9244</th>\n",
              "      <td>শালীর সব পাগলচুদা  ।  মাসরাফি যেমন আমাদের সম্প...</td>\n",
              "      <td>0</td>\n",
              "    </tr>\n",
              "    <tr>\n",
              "      <th>9247</th>\n",
              "      <td>ডিজিটাল মিটার চালু হইছে তো ভাবী অনেক আগে থেকে ...</td>\n",
              "      <td>0</td>\n",
              "    </tr>\n",
              "    <tr>\n",
              "      <th>9248</th>\n",
              "      <td>আমরা ঢাকাবাসীর গৌরবান্বিত যে টাইগার সম্রাজ্ঞী ...</td>\n",
              "      <td>0</td>\n",
              "    </tr>\n",
              "  </tbody>\n",
              "</table>\n",
              "<p>14800 rows × 2 columns</p>\n",
              "</div>"
            ],
            "text/plain": [
              "                                                   male  _original_label\n",
              "0     ভাই মিথ্যা কথা বইলেন না আপনি ভিপিএন ইউজ করে পো...                1\n",
              "1     ভাই মিথ্যা কথা বইলেন না আপনি ভিপিএন ইউজ করে পো...                1\n",
              "3     নিশ্চয়  সাংবাদিককে কোনো কিছু দেওয়ার প্রতিশ্রুত...                1\n",
              "4     দুইদিন বৃষ্টিতে একটু সুস্থ হইছে । ভাদ্র মাসের ...                1\n",
              "5     দুইদিন বৃষ্টিতে একটু সুস্থ হইছে । ভাদ্র মাসের ...                1\n",
              "...                                                 ...              ...\n",
              "9240  মিথ্যা কথা  ।  এই স্ত্রীলোক মনে হয় সেরামের কাছ...                0\n",
              "9241  মিথ্যা কথা  ।  এই মহিলা মনে হয় সেরামের কাছ থেক...                0\n",
              "9244  শালীর সব পাগলচুদা  ।  মাসরাফি যেমন আমাদের সম্প...                0\n",
              "9247  ডিজিটাল মিটার চালু হইছে তো ভাবী অনেক আগে থেকে ...                0\n",
              "9248  আমরা ঢাকাবাসীর গৌরবান্বিত যে টাইগার সম্রাজ্ঞী ...                0\n",
              "\n",
              "[14800 rows x 2 columns]"
            ]
          },
          "execution_count": 7,
          "metadata": {},
          "output_type": "execute_result"
        }
      ],
      "source": [
        "t1 = temp[['male', '_original_label']]\n",
        "t2 = temp[['female', '_original_label']]\n",
        "t2.columns = ['male', '_original_label']\n",
        "temp = pd.concat([t1, t2], axis = 0)\n",
        "temp"
      ]
    },
    {
      "cell_type": "code",
      "execution_count": 8,
      "metadata": {
        "colab": {
          "base_uri": "https://localhost:8080/"
        },
        "execution": {
          "iopub.execute_input": "2025-04-03T20:49:35.867939Z",
          "iopub.status.busy": "2025-04-03T20:49:35.867703Z",
          "iopub.status.idle": "2025-04-03T20:49:35.886023Z",
          "shell.execute_reply": "2025-04-03T20:49:35.885164Z",
          "shell.execute_reply.started": "2025-04-03T20:49:35.867920Z"
        },
        "id": "UkmP7JzNJjni",
        "outputId": "35eeacc1-eb28-4d65-bce9-aa5ff38bc203",
        "trusted": true
      },
      "outputs": [
        {
          "name": "stderr",
          "output_type": "stream",
          "text": [
            "C:\\Users\\austg\\AppData\\Local\\Temp\\ipykernel_18388\\2961424500.py:2: DeprecationWarning: DataFrameGroupBy.apply operated on the grouping columns. This behavior is deprecated, and in a future version of pandas the grouping columns will be excluded from the operation. Either pass `include_groups=False` to exclude the groupings or explicitly select the grouping columns after groupby to silence this warning.\n",
            "  validation = temp.groupby('_original_label', group_keys=False).apply(lambda x: x.sample(frac=0.02, random_state=1234))\n"
          ]
        }
      ],
      "source": [
        "# validation = temp.groupby('_original_label', group_keys=False).apply(lambda x: x.sample(frac=0.2, random_state=1234))\n",
        "validation = temp.groupby('_original_label', group_keys=False).apply(lambda x: x.sample(frac=0.02, random_state=1234))\n",
        "train = temp.drop(validation.index)"
      ]
    },
    {
      "cell_type": "code",
      "execution_count": 9,
      "metadata": {
        "colab": {
          "base_uri": "https://localhost:8080/"
        },
        "execution": {
          "iopub.execute_input": "2025-04-03T20:49:35.887022Z",
          "iopub.status.busy": "2025-04-03T20:49:35.886803Z",
          "iopub.status.idle": "2025-04-03T20:49:35.896093Z",
          "shell.execute_reply": "2025-04-03T20:49:35.895204Z",
          "shell.execute_reply.started": "2025-04-03T20:49:35.887003Z"
        },
        "id": "4y8UqE3BNMJu",
        "outputId": "c1b49fd9-671e-49db-b351-79f2e165d748",
        "trusted": true
      },
      "outputs": [
        {
          "name": "stdout",
          "output_type": "stream",
          "text": [
            "Train class distribution:  _original_label\n",
            "1    8056\n",
            "0    6158\n",
            "Name: count, dtype: int64\n",
            "Difference (Change carefully):  1898\n",
            "Train class distribution:  _original_label\n",
            "1    8056\n",
            "0    8056\n",
            "Name: count, dtype: int64\n"
          ]
        }
      ],
      "source": [
        "train = temp.drop(validation.index)\n",
        "print('Train class distribution: ', train._original_label.value_counts())\n",
        "diff  = max(train._original_label.value_counts()) - min(train._original_label.value_counts())\n",
        "print('Difference (Change carefully): ', diff)\n",
        "ex = train[train._original_label==0].sample(n = diff, random_state = 1234)\n",
        "train = pd.concat([train, ex])\n",
        "train = train.reset_index(drop=True)\n",
        "print('Train class distribution: ', train._original_label.value_counts())"
      ]
    },
    {
      "cell_type": "code",
      "execution_count": 10,
      "metadata": {
        "colab": {
          "base_uri": "https://localhost:8080/",
          "height": 423
        },
        "execution": {
          "iopub.execute_input": "2025-04-03T20:49:35.899038Z",
          "iopub.status.busy": "2025-04-03T20:49:35.898686Z",
          "iopub.status.idle": "2025-04-03T20:49:35.917054Z",
          "shell.execute_reply": "2025-04-03T20:49:35.916047Z",
          "shell.execute_reply.started": "2025-04-03T20:49:35.899008Z"
        },
        "id": "QxQqmLk8NQDi",
        "outputId": "a9aaccc2-db37-403a-897f-6cff981eb84a",
        "trusted": true
      },
      "outputs": [
        {
          "data": {
            "text/html": [
              "<div>\n",
              "<style scoped>\n",
              "    .dataframe tbody tr th:only-of-type {\n",
              "        vertical-align: middle;\n",
              "    }\n",
              "\n",
              "    .dataframe tbody tr th {\n",
              "        vertical-align: top;\n",
              "    }\n",
              "\n",
              "    .dataframe thead th {\n",
              "        text-align: right;\n",
              "    }\n",
              "</style>\n",
              "<table border=\"1\" class=\"dataframe\">\n",
              "  <thead>\n",
              "    <tr style=\"text-align: right;\">\n",
              "      <th></th>\n",
              "      <th>male</th>\n",
              "      <th>_original_label</th>\n",
              "    </tr>\n",
              "  </thead>\n",
              "  <tbody>\n",
              "    <tr>\n",
              "      <th>9227</th>\n",
              "      <td>সাকিব ভাই আপনি হজ্জ করে আসলেন টাকা তো অনেক কাম...</td>\n",
              "      <td>0</td>\n",
              "    </tr>\n",
              "    <tr>\n",
              "      <th>6328</th>\n",
              "      <td>সিনেমাতে ভিলেন । বাস্তবে নায়ক</td>\n",
              "      <td>0</td>\n",
              "    </tr>\n",
              "    <tr>\n",
              "      <th>8595</th>\n",
              "      <td>জি বোন আপনি ঠিক বলছেন ! তবে আপনাদের সবাইকে দেশ...</td>\n",
              "      <td>0</td>\n",
              "    </tr>\n",
              "    <tr>\n",
              "      <th>7073</th>\n",
              "      <td>আল্লাহ আপনাকে নেক হায়াত দান করুন আর আপনার স্বা...</td>\n",
              "      <td>0</td>\n",
              "    </tr>\n",
              "    <tr>\n",
              "      <th>8931</th>\n",
              "      <td>সেদিন নিউমার্কেটে কিছু পুলিশ কর্মকর্তা বাইক চা...</td>\n",
              "      <td>0</td>\n",
              "    </tr>\n",
              "    <tr>\n",
              "      <th>...</th>\n",
              "      <td>...</td>\n",
              "      <td>...</td>\n",
              "    </tr>\n",
              "    <tr>\n",
              "      <th>3723</th>\n",
              "      <td>মাগো বাপ আর কয়বার প্রোমোট করবি এই মরণরে ? কয়বা...</td>\n",
              "      <td>1</td>\n",
              "    </tr>\n",
              "    <tr>\n",
              "      <th>4833</th>\n",
              "      <td>অতীতে আমার আম্মু চিল্লিয়েছে বর্তমানে আমি সগৌরব...</td>\n",
              "      <td>1</td>\n",
              "    </tr>\n",
              "    <tr>\n",
              "      <th>3907</th>\n",
              "      <td>আমি সিউর আগের জন্মে হিরোইন   অমৃতা  আর মাহফুজ ...</td>\n",
              "      <td>1</td>\n",
              "    </tr>\n",
              "    <tr>\n",
              "      <th>1846</th>\n",
              "      <td>জুন আন্টি শ্রীময়ী যদি জাল ছিঁড়ে বেরিয়েও যায...</td>\n",
              "      <td>1</td>\n",
              "    </tr>\n",
              "    <tr>\n",
              "      <th>4622</th>\n",
              "      <td>এমপি সাহেব মলম বিক্রি করা বাদ দিয়ে কিভাবে সামন...</td>\n",
              "      <td>1</td>\n",
              "    </tr>\n",
              "  </tbody>\n",
              "</table>\n",
              "<p>296 rows × 2 columns</p>\n",
              "</div>"
            ],
            "text/plain": [
              "                                                   male  _original_label\n",
              "9227  সাকিব ভাই আপনি হজ্জ করে আসলেন টাকা তো অনেক কাম...                0\n",
              "6328                      সিনেমাতে ভিলেন । বাস্তবে নায়ক                0\n",
              "8595  জি বোন আপনি ঠিক বলছেন ! তবে আপনাদের সবাইকে দেশ...                0\n",
              "7073  আল্লাহ আপনাকে নেক হায়াত দান করুন আর আপনার স্বা...                0\n",
              "8931  সেদিন নিউমার্কেটে কিছু পুলিশ কর্মকর্তা বাইক চা...                0\n",
              "...                                                 ...              ...\n",
              "3723  মাগো বাপ আর কয়বার প্রোমোট করবি এই মরণরে ? কয়বা...                1\n",
              "4833  অতীতে আমার আম্মু চিল্লিয়েছে বর্তমানে আমি সগৌরব...                1\n",
              "3907  আমি সিউর আগের জন্মে হিরোইন   অমৃতা  আর মাহফুজ ...                1\n",
              "1846  জুন আন্টি শ্রীময়ী যদি জাল ছিঁড়ে বেরিয়েও যায...                1\n",
              "4622  এমপি সাহেব মলম বিক্রি করা বাদ দিয়ে কিভাবে সামন...                1\n",
              "\n",
              "[296 rows x 2 columns]"
            ]
          },
          "execution_count": 10,
          "metadata": {},
          "output_type": "execute_result"
        }
      ],
      "source": [
        "validation"
      ]
    },
    {
      "cell_type": "code",
      "execution_count": 11,
      "metadata": {
        "colab": {
          "base_uri": "https://localhost:8080/",
          "height": 423
        },
        "execution": {
          "iopub.execute_input": "2025-04-03T20:49:35.918901Z",
          "iopub.status.busy": "2025-04-03T20:49:35.918545Z",
          "iopub.status.idle": "2025-04-03T20:49:35.939687Z",
          "shell.execute_reply": "2025-04-03T20:49:35.938971Z",
          "shell.execute_reply.started": "2025-04-03T20:49:35.918870Z"
        },
        "id": "YHS3TElIORBB",
        "outputId": "727a74e1-f182-4f4d-c895-a6604be39a65",
        "trusted": true
      },
      "outputs": [
        {
          "data": {
            "text/html": [
              "<div>\n",
              "<style scoped>\n",
              "    .dataframe tbody tr th:only-of-type {\n",
              "        vertical-align: middle;\n",
              "    }\n",
              "\n",
              "    .dataframe tbody tr th {\n",
              "        vertical-align: top;\n",
              "    }\n",
              "\n",
              "    .dataframe thead th {\n",
              "        text-align: right;\n",
              "    }\n",
              "</style>\n",
              "<table border=\"1\" class=\"dataframe\">\n",
              "  <thead>\n",
              "    <tr style=\"text-align: right;\">\n",
              "      <th></th>\n",
              "      <th>male</th>\n",
              "      <th>female</th>\n",
              "      <th>_original_label</th>\n",
              "      <th>test</th>\n",
              "    </tr>\n",
              "  </thead>\n",
              "  <tbody>\n",
              "    <tr>\n",
              "      <th>2</th>\n",
              "      <td>ভাই মিথ্যা কথা বইলেন না আপনি ভিপিএন ইউজ করে পো...</td>\n",
              "      <td>ভাবী মিথ্যা কথা বইলেন না আপনি ভিপিএন ইউজ করে প...</td>\n",
              "      <td>1</td>\n",
              "      <td>1</td>\n",
              "    </tr>\n",
              "    <tr>\n",
              "      <th>11</th>\n",
              "      <td>দে বাবা দে বলি দে । জবা গলা জোড়াতে ও পারে</td>\n",
              "      <td>দে মা দে বলি দে  ।  জবা গলা জোড়াতে ও পারে</td>\n",
              "      <td>1</td>\n",
              "      <td>1</td>\n",
              "    </tr>\n",
              "    <tr>\n",
              "      <th>20</th>\n",
              "      <td>আপনি কি জন্য আপনার বাপের বয়সী বেডার লগে ক্লাবে...</td>\n",
              "      <td>আপনি কি জন্য আপনার মায়ের বয়সী বেডির লগে ক্লাবে...</td>\n",
              "      <td>1</td>\n",
              "      <td>1</td>\n",
              "    </tr>\n",
              "    <tr>\n",
              "      <th>29</th>\n",
              "      <td>বন্ধু মানুষ আসলে বাঙ্গির মতো ।</td>\n",
              "      <td>বন্ধুপত্নী মানুষ আসলে বাঙ্গির মতো  ।</td>\n",
              "      <td>1</td>\n",
              "      <td>1</td>\n",
              "    </tr>\n",
              "    <tr>\n",
              "      <th>34</th>\n",
              "      <td>আয় হায় ! কি ঢস টা দিলো রে আতিক ভাই !</td>\n",
              "      <td>আয় হায় ! কি ঢস টা দিলো রে  বিনিতা  বোন !</td>\n",
              "      <td>1</td>\n",
              "      <td>1</td>\n",
              "    </tr>\n",
              "    <tr>\n",
              "      <th>...</th>\n",
              "      <td>...</td>\n",
              "      <td>...</td>\n",
              "      <td>...</td>\n",
              "      <td>...</td>\n",
              "    </tr>\n",
              "    <tr>\n",
              "      <th>9242</th>\n",
              "      <td>সমানভাবে ভাগ করায় সাংবাদিক সাহেবও খুশি</td>\n",
              "      <td>সমানভাবে ভাগ করায় মহিলা সাংবাদিক সাহেবও খুশি</td>\n",
              "      <td>0</td>\n",
              "      <td>1</td>\n",
              "    </tr>\n",
              "    <tr>\n",
              "      <th>9243</th>\n",
              "      <td>ত্রিশ দিন রমজানের পর আজকে শয়তান ছাড়া পেয়েছে ৷</td>\n",
              "      <td>ত্রিশ দিন রমজানের পর আজকে শয়তানি ছাড়া পেয়েছে ৷</td>\n",
              "      <td>0</td>\n",
              "      <td>1</td>\n",
              "    </tr>\n",
              "    <tr>\n",
              "      <th>9245</th>\n",
              "      <td>ডিজিটাল মিটার চালু হইছে তো ভাই অনেক আগে থেকে ত...</td>\n",
              "      <td>ডিজিটাল মিটার চালু হইছে তো আফা অনেক আগে থেকে ত...</td>\n",
              "      <td>0</td>\n",
              "      <td>1</td>\n",
              "    </tr>\n",
              "    <tr>\n",
              "      <th>9246</th>\n",
              "      <td>ডিজিটাল মিটার চালু হইছে তো ভাই অনেক আগে থেকে ত...</td>\n",
              "      <td>ডিজিটাল মিটার চালু হইছে তো বোন অনেক আগে থেকে ত...</td>\n",
              "      <td>0</td>\n",
              "      <td>1</td>\n",
              "    </tr>\n",
              "    <tr>\n",
              "      <th>9249</th>\n",
              "      <td>অনেক দিন পরে আপনারা একটা মূল্যবান সংবাদ প্রকাশ...</td>\n",
              "      <td>অনেক দিন পরে আপনারা একটা মূল্যবান সংবাদ প্রকাশ...</td>\n",
              "      <td>0</td>\n",
              "      <td>1</td>\n",
              "    </tr>\n",
              "  </tbody>\n",
              "</table>\n",
              "<p>1850 rows × 4 columns</p>\n",
              "</div>"
            ],
            "text/plain": [
              "                                                   male  \\\n",
              "2     ভাই মিথ্যা কথা বইলেন না আপনি ভিপিএন ইউজ করে পো...   \n",
              "11            দে বাবা দে বলি দে । জবা গলা জোড়াতে ও পারে   \n",
              "20    আপনি কি জন্য আপনার বাপের বয়সী বেডার লগে ক্লাবে...   \n",
              "29                       বন্ধু মানুষ আসলে বাঙ্গির মতো ।   \n",
              "34                 আয় হায় ! কি ঢস টা দিলো রে আতিক ভাই !   \n",
              "...                                                 ...   \n",
              "9242             সমানভাবে ভাগ করায় সাংবাদিক সাহেবও খুশি   \n",
              "9243      ত্রিশ দিন রমজানের পর আজকে শয়তান ছাড়া পেয়েছে ৷   \n",
              "9245  ডিজিটাল মিটার চালু হইছে তো ভাই অনেক আগে থেকে ত...   \n",
              "9246  ডিজিটাল মিটার চালু হইছে তো ভাই অনেক আগে থেকে ত...   \n",
              "9249  অনেক দিন পরে আপনারা একটা মূল্যবান সংবাদ প্রকাশ...   \n",
              "\n",
              "                                                 female  _original_label  test  \n",
              "2     ভাবী মিথ্যা কথা বইলেন না আপনি ভিপিএন ইউজ করে প...                1     1  \n",
              "11            দে মা দে বলি দে  ।  জবা গলা জোড়াতে ও পারে                1     1  \n",
              "20    আপনি কি জন্য আপনার মায়ের বয়সী বেডির লগে ক্লাবে...                1     1  \n",
              "29                 বন্ধুপত্নী মানুষ আসলে বাঙ্গির মতো  ।                1     1  \n",
              "34             আয় হায় ! কি ঢস টা দিলো রে  বিনিতা  বোন !                1     1  \n",
              "...                                                 ...              ...   ...  \n",
              "9242       সমানভাবে ভাগ করায় মহিলা সাংবাদিক সাহেবও খুশি                0     1  \n",
              "9243     ত্রিশ দিন রমজানের পর আজকে শয়তানি ছাড়া পেয়েছে ৷                0     1  \n",
              "9245  ডিজিটাল মিটার চালু হইছে তো আফা অনেক আগে থেকে ত...                0     1  \n",
              "9246  ডিজিটাল মিটার চালু হইছে তো বোন অনেক আগে থেকে ত...                0     1  \n",
              "9249  অনেক দিন পরে আপনারা একটা মূল্যবান সংবাদ প্রকাশ...                0     1  \n",
              "\n",
              "[1850 rows x 4 columns]"
            ]
          },
          "execution_count": 11,
          "metadata": {},
          "output_type": "execute_result"
        }
      ],
      "source": [
        "test"
      ]
    },
    {
      "cell_type": "markdown",
      "metadata": {
        "id": "Orwc8qgeow7g"
      },
      "source": [
        "# Load Pretrained Model"
      ]
    },
    {
      "cell_type": "code",
      "execution_count": 28,
      "metadata": {
        "colab": {
          "base_uri": "https://localhost:8080/"
        },
        "execution": {
          "iopub.execute_input": "2025-04-03T20:49:35.940965Z",
          "iopub.status.busy": "2025-04-03T20:49:35.940649Z",
          "iopub.status.idle": "2025-04-03T20:50:02.213758Z",
          "shell.execute_reply": "2025-04-03T20:50:02.212875Z",
          "shell.execute_reply.started": "2025-04-03T20:49:35.940944Z"
        },
        "id": "YA0CO0ocCDP8",
        "outputId": "21de263e-04b2-47b8-bcbb-8250f4eab79a",
        "trusted": true
      },
      "outputs": [
        {
          "name": "stderr",
          "output_type": "stream",
          "text": [
            "Some weights of ElectraForMaskedLM were not initialized from the model checkpoint at raquiba/sarcasm-detection-BanglaSARC and are newly initialized: ['generator_lm_head.bias', 'generator_predictions.LayerNorm.bias', 'generator_predictions.LayerNorm.weight', 'generator_predictions.dense.bias', 'generator_predictions.dense.weight']\n",
            "You should probably TRAIN this model on a down-stream task to be able to use it for predictions and inference.\n"
          ]
        },
        {
          "name": "stdout",
          "output_type": "stream",
          "text": [
            "Total Pretrained tokens:  32000\n",
            "Total number of tokens after adding the new ones:  32002\n"
          ]
        }
      ],
      "source": [
        "import torch\n",
        "import torch.nn as nn\n",
        "import torch.nn.functional as F\n",
        "import torch.optim as optim\n",
        "import torchvision\n",
        "import torchvision.transforms as transform\n",
        "from torch.utils.data import DataLoader\n",
        "from transformers import AutoTokenizer, AutoModelForMaskedLM, BertConfig\n",
        "\n",
        "def load_transformer_based_model(model_path):\n",
        "    tokenizer = AutoTokenizer.from_pretrained(model_path)\n",
        "    model = AutoModelForMaskedLM.from_pretrained(model_path ,output_hidden_states=True)\n",
        "    return tokenizer, model\n",
        "model_path = \"raquiba/sarcasm-detection-BanglaSARC\"\n",
        "tokenizer, b_model = load_transformer_based_model(model_path)\n",
        "print('Total Pretrained tokens: ',len(tokenizer.get_vocab()))\n",
        "tokenizer.add_tokens(['<Name>' ,'<Gender>'])\n",
        "b_model.resize_token_embeddings(len(tokenizer))\n",
        "print('Total number of tokens after adding the new ones: ',len(tokenizer.get_vocab()))"
      ]
    },
    {
      "cell_type": "markdown",
      "metadata": {
        "id": "SAOnZGbye824"
      },
      "source": [
        "# Dataset Preparation"
      ]
    },
    {
      "cell_type": "code",
      "execution_count": 29,
      "metadata": {
        "execution": {
          "iopub.execute_input": "2025-04-03T20:50:02.215777Z",
          "iopub.status.busy": "2025-04-03T20:50:02.214845Z",
          "iopub.status.idle": "2025-04-03T20:50:02.237149Z",
          "shell.execute_reply": "2025-04-03T20:50:02.236257Z",
          "shell.execute_reply.started": "2025-04-03T20:50:02.215749Z"
        },
        "id": "OC9hovLMEOuI",
        "trusted": true
      },
      "outputs": [],
      "source": [
        "import pandas as pd\n",
        "import numpy as np\n",
        "import transformers\n",
        "import torch\n",
        "import torch.nn as nn\n",
        "from torch.utils.data import Dataset\n",
        "from torch.utils.data import DataLoader\n",
        "import torch.optim as optim\n",
        "import torch.nn.functional as F\n",
        "from torchsummary import summary\n",
        "from tqdm import tqdm\n",
        "\n",
        "\n",
        "\n",
        "class BertDataset(Dataset):\n",
        "    def __init__(self, data, tokenizer, train , gender, max_length):\n",
        "        super(BertDataset, self).__init__()\n",
        "\n",
        "        self.train_csv= data\n",
        "        self.tokenizer=tokenizer\n",
        "        self.target=self.train_csv.iloc[:,1]\n",
        "        self.max_length=max_length\n",
        "        self.train = train\n",
        "        self.gender = gender\n",
        "\n",
        "    def __len__(self):\n",
        "        return len(self.train_csv)\n",
        "\n",
        "    def __getitem__(self, index):\n",
        "\n",
        "        if self.train == 1:\n",
        "            text1 = self.train_csv.iloc[index,0] #0th column all data\n",
        "        else:\n",
        "            if self.gender == 'male':\n",
        "                text1 = self.train_csv.iloc[index,0] #male\n",
        "            else:\n",
        "                text1 = self.train_csv.iloc[index,1] #female\n",
        "\n",
        "\n",
        "\n",
        "        inputs = self.tokenizer.encode_plus(\n",
        "            text1 ,\n",
        "            None,\n",
        "            pad_to_max_length=True,\n",
        "            add_special_tokens=True,\n",
        "            return_attention_mask=True,\n",
        "            max_length=self.max_length,\n",
        "            truncation = True\n",
        "        )\n",
        "        ids = inputs[\"input_ids\"]\n",
        "        token_type_ids = inputs[\"token_type_ids\"]\n",
        "        mask = inputs[\"attention_mask\"]\n",
        "\n",
        "        try:\n",
        "            if self.train == 1:\n",
        "              return torch.tensor(ids, dtype=torch.long), torch.tensor(token_type_ids, dtype=torch.long), torch.tensor(mask, dtype=torch.long), torch.tensor(self.train_csv.iloc[index, 1], dtype=torch.long)\n",
        "            else:\n",
        "              return torch.tensor(ids, dtype=torch.long), torch.tensor(token_type_ids, dtype=torch.long), torch.tensor(mask, dtype=torch.long), torch.tensor(self.train_csv.iloc[index, 2], dtype=torch.long)\n",
        "\n",
        "        except:\n",
        "          print(index, self.train_csv[index])\n",
        "\n",
        "BATCH_SIZE = 16\n",
        "dataset_train= BertDataset(train, tokenizer, train = 1 , gender = None, max_length = 512)\n",
        "dataset_val= BertDataset( validation, tokenizer, train = 1 , gender = None, max_length = 512)\n",
        "dataset_test_male = BertDataset(test, tokenizer, train = 0 , gender = 'male', max_length = 512)\n",
        "dataset_test_female = BertDataset(test, tokenizer, train = 0 , gender = 'female', max_length = 512)\n",
        "\n",
        "train_loader=DataLoader(dataset=dataset_train,batch_size=BATCH_SIZE, shuffle=True)\n",
        "validation_loader=DataLoader(dataset=dataset_val,batch_size=BATCH_SIZE, shuffle=False)\n",
        "test_loader_male=DataLoader(dataset=dataset_test_male,batch_size=BATCH_SIZE, shuffle=False)\n",
        "test_loader_female=DataLoader(dataset=dataset_test_female,batch_size=BATCH_SIZE, shuffle=False)"
      ]
    },
    {
      "cell_type": "code",
      "execution_count": null,
      "metadata": {
        "execution": {
          "iopub.execute_input": "2025-04-03T20:50:02.238460Z",
          "iopub.status.busy": "2025-04-03T20:50:02.238092Z",
          "iopub.status.idle": "2025-04-03T20:50:02.353581Z",
          "shell.execute_reply": "2025-04-03T20:50:02.352516Z",
          "shell.execute_reply.started": "2025-04-03T20:50:02.238426Z"
        },
        "id": "2tZmO7-xgRuy",
        "trusted": true
      },
      "outputs": [],
      "source": [
        "# id,am, tid, l = next(iter(train_loader))\n",
        "# x = b_model(id, am,tid)\n",
        "# x.hidden_states[0].shape"
      ]
    },
    {
      "cell_type": "markdown",
      "metadata": {
        "id": "bApHZWCJe824"
      },
      "source": [
        "# Model"
      ]
    },
    {
      "cell_type": "code",
      "execution_count": 30,
      "metadata": {
        "execution": {
          "iopub.execute_input": "2025-04-03T20:50:02.354933Z",
          "iopub.status.busy": "2025-04-03T20:50:02.354608Z",
          "iopub.status.idle": "2025-04-03T20:50:02.371678Z",
          "shell.execute_reply": "2025-04-03T20:50:02.370808Z",
          "shell.execute_reply.started": "2025-04-03T20:50:02.354900Z"
        },
        "id": "m3-yXKpLGWyo",
        "trusted": true
      },
      "outputs": [],
      "source": [
        "class BERT(nn.Module):\n",
        "    def __init__(self, model):\n",
        "        super(BERT, self).__init__()\n",
        "        self.bert_model = model\n",
        "        self.dropout = nn.Dropout(0.2)\n",
        "        # self.dropout = nn.Dropout(0.3)\n",
        "        self.out = nn.Linear(768, 1)\n",
        "\n",
        "    def forward(self,ids,mask,token_type_ids):\n",
        "        o2= self.bert_model(ids,mask,token_type_ids).hidden_states[0]\n",
        "        o2= o2.max(dim=1).values\n",
        "        o2 = self.dropout(o2)\n",
        "        # print('------->>>>>>>>>',o2.values.shape)\n",
        "        out= self.out(o2)\n",
        "\n",
        "        return out, o2\n",
        "\n",
        "masked_model=BERT(b_model)\n",
        "# loss_fn = nn.BCEWithLogitsLoss()\n",
        "# #Initialize Optimizer\n",
        "# optimizer= optim.Adam(model.parameters(),lr= 0.0001)"
      ]
    },
    {
      "cell_type": "code",
      "execution_count": null,
      "metadata": {
        "execution": {
          "iopub.execute_input": "2025-04-03T20:50:02.372865Z",
          "iopub.status.busy": "2025-04-03T20:50:02.372623Z",
          "iopub.status.idle": "2025-04-03T20:50:02.393012Z",
          "shell.execute_reply": "2025-04-03T20:50:02.392106Z",
          "shell.execute_reply.started": "2025-04-03T20:50:02.372846Z"
        },
        "id": "-AQGpFmWklsW",
        "trusted": true
      },
      "outputs": [],
      "source": [
        "# id,am, tid, l = next(iter(train_loader))\n",
        "# x,_ = masked_model(id, am,tid)\n",
        "# x.shape"
      ]
    },
    {
      "cell_type": "markdown",
      "metadata": {
        "id": "_cK04vpXe825"
      },
      "source": [
        "# Training Loop Decorator"
      ]
    },
    {
      "cell_type": "code",
      "execution_count": 31,
      "metadata": {
        "execution": {
          "iopub.execute_input": "2025-04-03T20:50:02.394370Z",
          "iopub.status.busy": "2025-04-03T20:50:02.394047Z",
          "iopub.status.idle": "2025-04-03T20:50:02.675598Z",
          "shell.execute_reply": "2025-04-03T20:50:02.674928Z",
          "shell.execute_reply.started": "2025-04-03T20:50:02.394348Z"
        },
        "id": "T6W28-cwSnSV",
        "trusted": true
      },
      "outputs": [],
      "source": [
        "from collections import OrderedDict\n",
        "from collections import namedtuple\n",
        "from itertools import product\n",
        "import json\n",
        "from torch.utils.tensorboard import SummaryWriter\n",
        "import time\n",
        "import torchvision\n",
        "import pandas as pd\n",
        "import torch\n",
        "from IPython.display import display\n",
        "from IPython.display import clear_output\n",
        "\n",
        "class RunBuilder():\n",
        "    @staticmethod\n",
        "    def get_runs(params):\n",
        "        Run = namedtuple('Run', params.keys())\n",
        "\n",
        "\n",
        "        runs = []\n",
        "        for v in product(*params.values()):\n",
        "            runs.append(Run(*v))\n",
        "\n",
        "\n",
        "        return runs\n",
        "\n",
        "\n",
        "class RunManager():\n",
        "    def __init__(self):\n",
        "        self.epoch_count = 0\n",
        "        self.epoch_loss = 0\n",
        "        self.epoch_num_correct = 0\n",
        "        self.epoch_start_time = None\n",
        "\n",
        "        self.epoch_valid_loss = 0.0\n",
        "        self.epoch_num_valid_correct = 0\n",
        "\n",
        "        self.run_params = None\n",
        "        self.run_count = 0\n",
        "        self.run_data = []\n",
        "        self.run_start_time = None\n",
        "\n",
        "        self.network = None\n",
        "        self.loader = None\n",
        "        self.validation_loader = None\n",
        "        self.tb = None\n",
        "\n",
        "    def begin_run(self, run, network, loader, validation_loader):\n",
        "        self.run_start_time = time.time()\n",
        "\n",
        "        self.run_params = run\n",
        "        self.run_count += 1\n",
        "\n",
        "        self.network = network\n",
        "        self.loader = loader\n",
        "        self.validation_loader = validation_loader\n",
        "        self.tb = SummaryWriter(comment=f'-{run}')\n",
        "\n",
        "\n",
        "\n",
        "    def end_run(self):\n",
        "        self.tb.close()\n",
        "        self.epoch_count = 0\n",
        "\n",
        "    def begin_epoch(self):\n",
        "        self.epoch_start_time = time.time()\n",
        "        self.epoch_count += 1\n",
        "        self.epoch_loss = 0\n",
        "        self.epoch_num_correct = 0\n",
        "        self.epoch_valid_loss = 0\n",
        "        self.epoch_num_valid_correct = 0\n",
        "\n",
        "    def end_epoch(self):\n",
        "        epoch_duration = time.time() - self.epoch_start_time\n",
        "        run_duration = time.time() - self.run_start_time\n",
        "\n",
        "        loss = self.epoch_loss/len(self.loader.dataset)\n",
        "        accuracy = self.epoch_num_correct/len(self.loader.dataset)\n",
        "        val_loss = self.epoch_valid_loss/len(self.validation_loader.dataset)\n",
        "        val_accuracy = self.epoch_num_valid_correct/len(self.validation_loader.dataset)\n",
        "\n",
        "        self.tb.add_scalar('Loss', loss, self.epoch_count)\n",
        "        self.tb.add_scalar('Accuracy', accuracy, self.epoch_count)\n",
        "        self.tb.add_scalar('Validation Loss', val_loss, self.epoch_count)\n",
        "        self.tb.add_scalar('Validation Accuracy', val_accuracy, self.epoch_count)\n",
        "\n",
        "        for name, param in self.network.named_parameters():\n",
        "            self.tb.add_histogram(name, param, self.epoch_count)\n",
        "\n",
        "        results = OrderedDict()\n",
        "        results[\"run\"] = self.run_count\n",
        "        results[\"epoch\"] = self.epoch_count\n",
        "        results[\"loss\"] = loss\n",
        "        results[\"accuracy\"] = accuracy\n",
        "        results[\"validation loss\"] = val_loss\n",
        "        results[\"validation accuracy\"] = val_accuracy\n",
        "        results[\"epoch duration\"] = epoch_duration\n",
        "        results[\"run duration\"] = run_duration\n",
        "        for k,v in self.run_params._asdict().items(): results[k] = v\n",
        "        self.run_data.append(results)\n",
        "        df = pd.DataFrame.from_dict(self.run_data, orient='columns')\n",
        "\n",
        "        clear_output(wait=True)\n",
        "        display(df)\n",
        "\n",
        "    def track_loss(self, loss):\n",
        "        self.epoch_loss += loss.item()#*self.loader.batch_size\n",
        "\n",
        "    def track_num_correct(self, preds, labels):\n",
        "        self.epoch_num_correct += self._get_num_correct(preds, labels)\n",
        "\n",
        "    def track_validation_loss(self, loss):\n",
        "        self.epoch_valid_loss += loss.item()#*self.loader.batch_size\n",
        "\n",
        "    def track_num_validation_correct(self, preds, labels):\n",
        "        self.epoch_num_valid_correct += self._get_num_correct(preds, labels)\n",
        "\n",
        "    @torch.no_grad()\n",
        "    def _get_num_correct(self, preds, labels):\n",
        "        return torch.where(preds >= 0, 1, 0).eq(labels).sum().item()\n",
        "\n",
        "    def save(self, fileName):\n",
        "        pd.DataFrame.from_dict(\n",
        "            self.run_data,\n",
        "            orient='columns').to_csv(rf'{fileName}.csv')\n"
      ]
    },
    {
      "cell_type": "markdown",
      "metadata": {
        "id": "-aDvJKJqe825"
      },
      "source": [
        "# Training"
      ]
    },
    {
      "cell_type": "code",
      "execution_count": 32,
      "metadata": {
        "colab": {
          "base_uri": "https://localhost:8080/"
        },
        "execution": {
          "iopub.execute_input": "2025-04-03T20:50:02.676687Z",
          "iopub.status.busy": "2025-04-03T20:50:02.676385Z"
        },
        "id": "R6Y4KVbRSxRB",
        "outputId": "fc197d7a-327b-4ba3-cd4f-783fde65a49b",
        "trusted": true
      },
      "outputs": [
        {
          "data": {
            "text/html": [
              "<div>\n",
              "<style scoped>\n",
              "    .dataframe tbody tr th:only-of-type {\n",
              "        vertical-align: middle;\n",
              "    }\n",
              "\n",
              "    .dataframe tbody tr th {\n",
              "        vertical-align: top;\n",
              "    }\n",
              "\n",
              "    .dataframe thead th {\n",
              "        text-align: right;\n",
              "    }\n",
              "</style>\n",
              "<table border=\"1\" class=\"dataframe\">\n",
              "  <thead>\n",
              "    <tr style=\"text-align: right;\">\n",
              "      <th></th>\n",
              "      <th>run</th>\n",
              "      <th>epoch</th>\n",
              "      <th>loss</th>\n",
              "      <th>accuracy</th>\n",
              "      <th>validation loss</th>\n",
              "      <th>validation accuracy</th>\n",
              "      <th>epoch duration</th>\n",
              "      <th>run duration</th>\n",
              "      <th>lr</th>\n",
              "      <th>batch_size</th>\n",
              "      <th>device</th>\n",
              "    </tr>\n",
              "  </thead>\n",
              "  <tbody>\n",
              "    <tr>\n",
              "      <th>0</th>\n",
              "      <td>1</td>\n",
              "      <td>1</td>\n",
              "      <td>0.040417</td>\n",
              "      <td>0.628165</td>\n",
              "      <td>0.037188</td>\n",
              "      <td>0.766892</td>\n",
              "      <td>99.357969</td>\n",
              "      <td>99.358970</td>\n",
              "      <td>0.0001</td>\n",
              "      <td>16</td>\n",
              "      <td>cuda</td>\n",
              "    </tr>\n",
              "    <tr>\n",
              "      <th>1</th>\n",
              "      <td>1</td>\n",
              "      <td>2</td>\n",
              "      <td>0.030633</td>\n",
              "      <td>0.804618</td>\n",
              "      <td>0.029137</td>\n",
              "      <td>0.800676</td>\n",
              "      <td>98.938697</td>\n",
              "      <td>201.071659</td>\n",
              "      <td>0.0001</td>\n",
              "      <td>16</td>\n",
              "      <td>cuda</td>\n",
              "    </tr>\n",
              "    <tr>\n",
              "      <th>2</th>\n",
              "      <td>1</td>\n",
              "      <td>3</td>\n",
              "      <td>0.021109</td>\n",
              "      <td>0.888654</td>\n",
              "      <td>0.023999</td>\n",
              "      <td>0.851351</td>\n",
              "      <td>98.823960</td>\n",
              "      <td>302.721038</td>\n",
              "      <td>0.0001</td>\n",
              "      <td>16</td>\n",
              "      <td>cuda</td>\n",
              "    </tr>\n",
              "    <tr>\n",
              "      <th>3</th>\n",
              "      <td>1</td>\n",
              "      <td>4</td>\n",
              "      <td>0.014159</td>\n",
              "      <td>0.931293</td>\n",
              "      <td>0.020755</td>\n",
              "      <td>0.871622</td>\n",
              "      <td>98.874528</td>\n",
              "      <td>404.406184</td>\n",
              "      <td>0.0001</td>\n",
              "      <td>16</td>\n",
              "      <td>cuda</td>\n",
              "    </tr>\n",
              "    <tr>\n",
              "      <th>4</th>\n",
              "      <td>1</td>\n",
              "      <td>5</td>\n",
              "      <td>0.009912</td>\n",
              "      <td>0.953947</td>\n",
              "      <td>0.019361</td>\n",
              "      <td>0.864865</td>\n",
              "      <td>98.862542</td>\n",
              "      <td>506.250943</td>\n",
              "      <td>0.0001</td>\n",
              "      <td>16</td>\n",
              "      <td>cuda</td>\n",
              "    </tr>\n",
              "    <tr>\n",
              "      <th>5</th>\n",
              "      <td>1</td>\n",
              "      <td>6</td>\n",
              "      <td>0.007061</td>\n",
              "      <td>0.968409</td>\n",
              "      <td>0.018805</td>\n",
              "      <td>0.854730</td>\n",
              "      <td>98.812679</td>\n",
              "      <td>607.938870</td>\n",
              "      <td>0.0001</td>\n",
              "      <td>16</td>\n",
              "      <td>cuda</td>\n",
              "    </tr>\n",
              "    <tr>\n",
              "      <th>6</th>\n",
              "      <td>1</td>\n",
              "      <td>7</td>\n",
              "      <td>0.005110</td>\n",
              "      <td>0.978712</td>\n",
              "      <td>0.018815</td>\n",
              "      <td>0.875000</td>\n",
              "      <td>99.077801</td>\n",
              "      <td>709.873658</td>\n",
              "      <td>0.0001</td>\n",
              "      <td>16</td>\n",
              "      <td>cuda</td>\n",
              "    </tr>\n",
              "    <tr>\n",
              "      <th>7</th>\n",
              "      <td>1</td>\n",
              "      <td>8</td>\n",
              "      <td>0.003766</td>\n",
              "      <td>0.984856</td>\n",
              "      <td>0.019223</td>\n",
              "      <td>0.891892</td>\n",
              "      <td>100.110191</td>\n",
              "      <td>812.800656</td>\n",
              "      <td>0.0001</td>\n",
              "      <td>16</td>\n",
              "      <td>cuda</td>\n",
              "    </tr>\n",
              "    <tr>\n",
              "      <th>8</th>\n",
              "      <td>1</td>\n",
              "      <td>9</td>\n",
              "      <td>0.002953</td>\n",
              "      <td>0.988394</td>\n",
              "      <td>0.019241</td>\n",
              "      <td>0.888514</td>\n",
              "      <td>100.208915</td>\n",
              "      <td>915.801043</td>\n",
              "      <td>0.0001</td>\n",
              "      <td>16</td>\n",
              "      <td>cuda</td>\n",
              "    </tr>\n",
              "    <tr>\n",
              "      <th>9</th>\n",
              "      <td>1</td>\n",
              "      <td>10</td>\n",
              "      <td>0.002347</td>\n",
              "      <td>0.991807</td>\n",
              "      <td>0.019400</td>\n",
              "      <td>0.888514</td>\n",
              "      <td>100.017122</td>\n",
              "      <td>1018.608572</td>\n",
              "      <td>0.0001</td>\n",
              "      <td>16</td>\n",
              "      <td>cuda</td>\n",
              "    </tr>\n",
              "    <tr>\n",
              "      <th>10</th>\n",
              "      <td>1</td>\n",
              "      <td>11</td>\n",
              "      <td>0.001973</td>\n",
              "      <td>0.993173</td>\n",
              "      <td>0.019575</td>\n",
              "      <td>0.888514</td>\n",
              "      <td>101.203612</td>\n",
              "      <td>1122.598861</td>\n",
              "      <td>0.0001</td>\n",
              "      <td>16</td>\n",
              "      <td>cuda</td>\n",
              "    </tr>\n",
              "    <tr>\n",
              "      <th>11</th>\n",
              "      <td>1</td>\n",
              "      <td>12</td>\n",
              "      <td>0.001682</td>\n",
              "      <td>0.994724</td>\n",
              "      <td>0.019861</td>\n",
              "      <td>0.888514</td>\n",
              "      <td>100.169678</td>\n",
              "      <td>1225.633286</td>\n",
              "      <td>0.0001</td>\n",
              "      <td>16</td>\n",
              "      <td>cuda</td>\n",
              "    </tr>\n",
              "    <tr>\n",
              "      <th>12</th>\n",
              "      <td>1</td>\n",
              "      <td>13</td>\n",
              "      <td>0.001476</td>\n",
              "      <td>0.995780</td>\n",
              "      <td>0.019922</td>\n",
              "      <td>0.888514</td>\n",
              "      <td>99.569399</td>\n",
              "      <td>1328.061780</td>\n",
              "      <td>0.0001</td>\n",
              "      <td>16</td>\n",
              "      <td>cuda</td>\n",
              "    </tr>\n",
              "    <tr>\n",
              "      <th>13</th>\n",
              "      <td>1</td>\n",
              "      <td>14</td>\n",
              "      <td>0.001259</td>\n",
              "      <td>0.997021</td>\n",
              "      <td>0.020221</td>\n",
              "      <td>0.888514</td>\n",
              "      <td>101.186362</td>\n",
              "      <td>1432.091873</td>\n",
              "      <td>0.0001</td>\n",
              "      <td>16</td>\n",
              "      <td>cuda</td>\n",
              "    </tr>\n",
              "    <tr>\n",
              "      <th>14</th>\n",
              "      <td>1</td>\n",
              "      <td>15</td>\n",
              "      <td>0.001247</td>\n",
              "      <td>0.996711</td>\n",
              "      <td>0.020410</td>\n",
              "      <td>0.888514</td>\n",
              "      <td>101.297764</td>\n",
              "      <td>1536.266797</td>\n",
              "      <td>0.0001</td>\n",
              "      <td>16</td>\n",
              "      <td>cuda</td>\n",
              "    </tr>\n",
              "  </tbody>\n",
              "</table>\n",
              "</div>"
            ],
            "text/plain": [
              "    run  epoch      loss  accuracy  validation loss  validation accuracy  \\\n",
              "0     1      1  0.040417  0.628165         0.037188             0.766892   \n",
              "1     1      2  0.030633  0.804618         0.029137             0.800676   \n",
              "2     1      3  0.021109  0.888654         0.023999             0.851351   \n",
              "3     1      4  0.014159  0.931293         0.020755             0.871622   \n",
              "4     1      5  0.009912  0.953947         0.019361             0.864865   \n",
              "5     1      6  0.007061  0.968409         0.018805             0.854730   \n",
              "6     1      7  0.005110  0.978712         0.018815             0.875000   \n",
              "7     1      8  0.003766  0.984856         0.019223             0.891892   \n",
              "8     1      9  0.002953  0.988394         0.019241             0.888514   \n",
              "9     1     10  0.002347  0.991807         0.019400             0.888514   \n",
              "10    1     11  0.001973  0.993173         0.019575             0.888514   \n",
              "11    1     12  0.001682  0.994724         0.019861             0.888514   \n",
              "12    1     13  0.001476  0.995780         0.019922             0.888514   \n",
              "13    1     14  0.001259  0.997021         0.020221             0.888514   \n",
              "14    1     15  0.001247  0.996711         0.020410             0.888514   \n",
              "\n",
              "    epoch duration  run duration      lr  batch_size device  \n",
              "0        99.357969     99.358970  0.0001          16   cuda  \n",
              "1        98.938697    201.071659  0.0001          16   cuda  \n",
              "2        98.823960    302.721038  0.0001          16   cuda  \n",
              "3        98.874528    404.406184  0.0001          16   cuda  \n",
              "4        98.862542    506.250943  0.0001          16   cuda  \n",
              "5        98.812679    607.938870  0.0001          16   cuda  \n",
              "6        99.077801    709.873658  0.0001          16   cuda  \n",
              "7       100.110191    812.800656  0.0001          16   cuda  \n",
              "8       100.208915    915.801043  0.0001          16   cuda  \n",
              "9       100.017122   1018.608572  0.0001          16   cuda  \n",
              "10      101.203612   1122.598861  0.0001          16   cuda  \n",
              "11      100.169678   1225.633286  0.0001          16   cuda  \n",
              "12       99.569399   1328.061780  0.0001          16   cuda  \n",
              "13      101.186362   1432.091873  0.0001          16   cuda  \n",
              "14      101.297764   1536.266797  0.0001          16   cuda  "
            ]
          },
          "metadata": {},
          "output_type": "display_data"
        },
        {
          "name": "stdout",
          "output_type": "stream",
          "text": [
            "Saved model and optimizer at foa_sarcasm.pth\n",
            "Saved model and optimizer at foa_sarcasm.pth\n"
          ]
        }
      ],
      "source": [
        "SAVE_MODEL = True\n",
        "\n",
        "from tqdm import tqdm\n",
        "import torch\n",
        "import torch.optim as optim\n",
        "import torch.nn.functional as F\n",
        "from collections import OrderedDict\n",
        "from datetime import datetime\n",
        "from transformers import get_linear_schedule_with_warmup\n",
        "import warnings\n",
        "warnings.filterwarnings('ignore')\n",
        "\n",
        "def my_trainer(train_loader, validation_loader, network, LR = 1e-5 ,epochs = 5, BATCH_SIZE = 16,  fresh_training = True, validation = True):\n",
        "    params = OrderedDict(\n",
        "        lr = [LR],\n",
        "        batch_size =[BATCH_SIZE],\n",
        "        device = ['cuda' if torch.cuda.is_available() else 'cpu'],\n",
        "    )\n",
        "\n",
        "    m = RunManager()\n",
        "    for run in RunBuilder.get_runs(params):\n",
        "        device = torch.device(run.device)\n",
        "        network = network.to(device)\n",
        "        # optimizer = optim.Adam(network.parameters(), lr=run.lr)\n",
        "\n",
        "        loss_fn = nn.BCEWithLogitsLoss()\n",
        "        total_steps = len(train_loader) * epochs\n",
        "        optimizer = optim.Adam(network.parameters(), lr= run.lr)\n",
        "\n",
        "        scheduler = get_linear_schedule_with_warmup(optimizer, num_warmup_steps = 0, num_training_steps = total_steps)\n",
        "        if not fresh_training:\n",
        "            # load_model(network, optimizer, PATH = '/content/drive/MyDrive/#Research/# GB/saved_model/foa_sarcasm.pth')\n",
        "            load_model(network, optimizer, PATH = 'foa_sarcasm.pth')\n",
        "        m.begin_run(run, network, train_loader, validation_loader)\n",
        "        for epoch in range(epochs):\n",
        "            network.train(True)\n",
        "            print(f'Epoch {epoch + 1} : ', end = '\\t')\n",
        "            m.begin_epoch()\n",
        "            for batch in tqdm(train_loader):\n",
        "                input_ids, token_type_ids, attention_masks, labels = batch\n",
        "                input_ids = input_ids.to(device)\n",
        "                token_type_ids = token_type_ids.to(device)\n",
        "                attention_masks = attention_masks.to(device)\n",
        "                labels = labels.type(torch.LongTensor)\n",
        "                labels = labels.to(device)\n",
        "\n",
        "                preds,hidden_states = network(input_ids, attention_masks,token_type_ids)\n",
        "                labels = labels.type_as(preds).view(-1, 1)\n",
        "                # print(labels.shape)\n",
        "                # print('----------')\n",
        "                # print(preds.shape)\n",
        "\n",
        "\n",
        "                loss = loss_fn(preds, labels)\n",
        "                # print(preds.shape, labels.shape)\n",
        "                # print(preds, labels)\n",
        "\n",
        "\n",
        "                optimizer.zero_grad()\n",
        "                loss.backward()\n",
        "                torch.nn.utils.clip_grad_norm_(network.parameters(), 1.0)\n",
        "                optimizer.step()\n",
        "                scheduler.step()\n",
        "\n",
        "\n",
        "                m.track_loss(loss)\n",
        "                m.track_num_correct(preds, labels)\n",
        "\n",
        "\n",
        "            network.eval()\n",
        "            for batch in tqdm(validation_loader):\n",
        "                input_ids, token_type_ids, attention_masks, labels = batch\n",
        "                input_ids = input_ids.to(device)\n",
        "                token_type_ids = token_type_ids.to(device)\n",
        "                attention_masks = attention_masks.to(device)\n",
        "                labels = labels.type(torch.LongTensor)\n",
        "                labels = labels.to(device)\n",
        "                with torch.no_grad():\n",
        "                    preds,hidden_states = network(input_ids, attention_masks,token_type_ids)\n",
        "                    labels = labels.type_as(preds).view(-1, 1)\n",
        "                    loss = loss_fn(preds, labels)\n",
        "                    m.track_validation_loss(loss)\n",
        "                    m.track_num_validation_correct(preds, labels)\n",
        "                # break #not doing validation here\n",
        "\n",
        "\n",
        "\n",
        "\n",
        "            m.end_epoch()\n",
        "            save_model(network, optimizer)\n",
        "            network.train(False)\n",
        "        m.end_run()\n",
        "    if SAVE_MODEL == True:\n",
        "        save_model(network, optimizer)\n",
        "\n",
        "    s = datetime.now().strftime(\"%d-%m-%Y %I:%M:%p\").replace(\" \", \"_\").replace(\":\", \"_\")\n",
        "    PATH  = rf'results_{s}'\n",
        "    m.save(PATH)\n",
        "    return\n",
        "\n",
        "\n",
        "def save_model(network, optimizer):\n",
        "    s = datetime.now().strftime(\"%d-%m-%Y %I:%M:%p\").replace(\" \", \"_\").replace(\":\", \"_\")\n",
        "    # PATH  = rf'/content/drive/MyDrive/#Research/# GB/saved_model/foa_sarcasm.pth'\n",
        "    PATH  = rf'foa_sarcasm.pth'\n",
        "    torch.save({\n",
        "    'model_state_dict': network.state_dict(),\n",
        "    'optimizer_state_dict': optimizer.state_dict(),\n",
        "    }, PATH)\n",
        "    print(f'Saved model and optimizer at {PATH}')\n",
        "    return\n",
        "\n",
        "def load_model(network, optimizer, PATH ):\n",
        "    checkpoint = torch.load(PATH)\n",
        "    network.load_state_dict(checkpoint['model_state_dict'])\n",
        "    if optimizer is not None:\n",
        "        optimizer.load_state_dict(checkpoint['optimizer_state_dict'])\n",
        "        print(rf'Loaded model and optimizer from {PATH}')\n",
        "    else:\n",
        "        print(rf'Loaded model from {PATH}')\n",
        "\n",
        "    return\n",
        "\n",
        "def get_parameter_info(network, details = False):\n",
        "    print('Total parameters:' ,(sum(p.numel() for p in network.parameters())))\n",
        "    print('Total trainable parameters:' ,(sum(p.numel() for p in network.parameters() if p.requires_grad)))\n",
        "    if details:\n",
        "        print('---------------------------------\\nDetailed Parameter Info: ')\n",
        "\n",
        "        for name, parameter in network.named_parameters():\n",
        "            print('name, parameter.requires_grad, parameter.is_cuda, parameter.size(): ', name, parameter.requires_grad, parameter.is_cuda, parameter.size())\n",
        "            print('---------------------------------')\n",
        "    return\n",
        "\n",
        "\n",
        "if finetuning:\n",
        "  my_trainer(train_loader, validation_loader, masked_model, 0.0001, epochs = 15, BATCH_SIZE = BATCH_SIZE, fresh_training = True)"
      ]
    },
    {
      "cell_type": "markdown",
      "metadata": {
        "id": "gvyAo3vXe826"
      },
      "source": [
        "# Load Model"
      ]
    },
    {
      "cell_type": "code",
      "execution_count": 34,
      "metadata": {
        "colab": {
          "base_uri": "https://localhost:8080/"
        },
        "id": "LD9moMLZLl8J",
        "outputId": "3d0268c0-df8f-4790-9b78-76fea93ef089"
      },
      "outputs": [],
      "source": [
        "#Load Model\n",
        "from tqdm import tqdm\n",
        "import torch\n",
        "import torch.optim as optim\n",
        "import torch.nn.functional as F\n",
        "from collections import OrderedDict\n",
        "from datetime import datetime\n",
        "from transformers import get_linear_schedule_with_warmup\n",
        "\n",
        "def load_model(network, optimizer, PATH ):\n",
        "    checkpoint = torch.load(PATH, map_location=torch.device('cpu'))\n",
        "    network.load_state_dict(checkpoint['model_state_dict'])\n",
        "    if optimizer is not None:\n",
        "        optimizer.load_state_dict(checkpoint['optimizer_state_dict'])\n",
        "        print(rf'Loaded model and optimizer from {PATH}')\n",
        "    else:\n",
        "        print(rf'Loaded model from {PATH}')\n",
        "\n",
        "    return\n",
        "\n",
        "\n",
        "if inference:\n",
        "#   load_model(masked_model, None, PATH = '/content/drive/MyDrive/#Research/# GB/saved_model/foa_sarcasm.pth')\n",
        "  load_model(masked_model, None, PATH = 'foa_sarcasm.pth')"
      ]
    },
    {
      "cell_type": "markdown",
      "metadata": {
        "id": "oYj-Bxtee827"
      },
      "source": [
        "# Inference"
      ]
    },
    {
      "cell_type": "code",
      "execution_count": 35,
      "metadata": {
        "colab": {
          "base_uri": "https://localhost:8080/"
        },
        "id": "4NDylnUZC6fq",
        "outputId": "1eb061df-33bb-4868-e934-1138eefbbcba"
      },
      "outputs": [
        {
          "name": "stderr",
          "output_type": "stream",
          "text": [
            "100%|██████████| 116/116 [00:08<00:00, 13.74it/s]\n",
            "100%|██████████| 116/116 [00:08<00:00, 13.73it/s]"
          ]
        },
        {
          "name": "stdout",
          "output_type": "stream",
          "text": [
            "For Male:\n",
            "Total test data:  1850 Total mismatch:  204 Accuracy:  0.8897297297297297\n",
            "For Female:\n",
            "Total test data:  1850 Total mismatch:  206 Accuracy:  0.8886486486486487\n",
            "Male Female Mismatch:  48\n"
          ]
        },
        {
          "name": "stderr",
          "output_type": "stream",
          "text": [
            "\n"
          ]
        }
      ],
      "source": [
        "\n",
        "def get_prediction(data_loader, network):\n",
        "  device = 'cuda' if torch.cuda.is_available() else 'cpu'\n",
        "  device = torch.device(device)\n",
        "  network = network.to(device)\n",
        "  network.eval()\n",
        "  l = []\n",
        "  emb = []\n",
        "  for batch in tqdm(data_loader):\n",
        "    input_ids, token_type_ids, attention_masks, labels = batch\n",
        "    input_ids = input_ids.to(device)\n",
        "    token_type_ids = token_type_ids.to(device)\n",
        "    attention_masks = attention_masks.to(device)\n",
        "    labels = labels.type(torch.LongTensor)\n",
        "    labels = labels.to(device)\n",
        "    with torch.no_grad():\n",
        "        preds, hidden_states = network(input_ids, attention_masks,token_type_ids)\n",
        "        labels = labels.type_as(preds).view(-1, 1)\n",
        "        preds =  torch.where(preds >= 0, 1, 0)\n",
        "        l.append(preds)\n",
        "        emb.append(hidden_states)\n",
        "  return l, torch.vstack(emb).cpu().numpy()\n",
        "\n",
        "import warnings\n",
        "warnings.filterwarnings('ignore')\n",
        "\n",
        "p, emb_male = get_prediction(test_loader_male, masked_model)\n",
        "test['pred_male_fod'] = [x[0] for pred in p for x in pred.tolist()]\n",
        "p, emb_male = get_prediction(test_loader_female, masked_model)\n",
        "test['pred_female_fod'] = [x[0] for pred in p for x in pred.tolist()]\n",
        "x = sum(test['pred_male_fod']!=test['_original_label'])\n",
        "print('For Male:\\nTotal test data: ', len(test),'Total mismatch: ', x,'Accuracy: ', 1- (x/len(test)))\n",
        "x = sum(test['pred_female_fod']!=test['_original_label'])\n",
        "print('For Female:\\nTotal test data: ', len(test),'Total mismatch: ', x,'Accuracy: ', 1- (x/len(test)))\n",
        "print('Male Female Mismatch: ', sum(test['pred_male_fod']!=test['pred_female_fod']))"
      ]
    },
    {
      "cell_type": "markdown",
      "metadata": {
        "id": "-wCT-lxhe827"
      },
      "source": [
        "# FOA Result"
      ]
    },
    {
      "cell_type": "code",
      "execution_count": 36,
      "metadata": {
        "colab": {
          "base_uri": "https://localhost:8080/"
        },
        "id": "9EetBuoJC9_e",
        "outputId": "74a4e804-704e-4ce9-9afd-9134c9b9d740"
      },
      "outputs": [
        {
          "name": "stdout",
          "output_type": "stream",
          "text": [
            "Male: \n",
            "Accuracy: 0.8897\n",
            "95% Confidence Interval: (np.float64(0.8753918918918919), np.float64(0.9029864864864865))\n",
            "mean accuracy: 0.8892972972972973\n",
            "\n",
            "Female: \n",
            "Accuracy: 0.8886\n",
            "95% Confidence Interval: (np.float64(0.8753918918918919), np.float64(0.9021621621621622))\n",
            "mean accuracy: 0.8885545945945945\n",
            "Male Female Mismatch:  48\n"
          ]
        }
      ],
      "source": [
        "import numpy as np\n",
        "np.random.seed(0)\n",
        "\n",
        "def bootstrap_ci(y_true, y_pred, B=500):\n",
        "    \"\"\"Compute bootstrap confidence interval for accuracy.\"\"\"\n",
        "    N = len(y_true)\n",
        "    original_acc = np.mean(y_pred == y_true)\n",
        "\n",
        "    bootstrap_accs = []\n",
        "\n",
        "    for _ in range(B):\n",
        "        indices = np.random.choice(N, N, replace=True)  # Sample with replacement\n",
        "        y_sample = y_true[indices]\n",
        "        acc = np.mean(y_pred[indices] == y_sample)\n",
        "        bootstrap_accs.append(acc)\n",
        "    # Compute 95% confidence interval\n",
        "    lower, upper = np.percentile(bootstrap_accs, [2.5, 97.5])\n",
        "\n",
        "    return original_acc, (lower, upper), np.mean(bootstrap_accs)\n",
        "\n",
        "y_true = test['_original_label'].values  # Ground truth labels\n",
        "y_pred = test['pred_male_fod'].values\n",
        "acc, ci, ma = bootstrap_ci(y_true, y_pred)\n",
        "print('Male: ')\n",
        "print(f\"Accuracy: {acc:.4f}\")\n",
        "print(f\"95% Confidence Interval: {ci}\")\n",
        "print(f\"mean accuracy: {ma}\")\n",
        "\n",
        "y_true = test['_original_label'].values\n",
        "y_pred = test['pred_female_fod'].values\n",
        "acc, ci, ma = bootstrap_ci(y_true, y_pred)\n",
        "print('\\nFemale: ')\n",
        "print(f\"Accuracy: {acc:.4f}\")\n",
        "print(f\"95% Confidence Interval: {ci}\")\n",
        "print(f\"mean accuracy: {ma}\")\n",
        "\n",
        "print('Male Female Mismatch: ', sum(test['pred_male_fod']!=test['pred_female_fod']))\n",
        "\n",
        "# test.to_csv('/content/drive/MyDrive/#Research/# GB/2,3.revision_foa_sarcasm_result.csv', index = False)\n",
        "test.to_csv('revision_foa_sarcasm_result.csv', index = False)"
      ]
    },
    {
      "cell_type": "code",
      "execution_count": 1,
      "metadata": {},
      "outputs": [
        {
          "name": "stderr",
          "output_type": "stream",
          "text": [
            "c:\\Users\\joyau\\anaconda3\\envs\\pytorch_gpu\\lib\\site-packages\\pandas\\core\\arrays\\masked.py:60: UserWarning: Pandas requires version '1.3.6' or newer of 'bottleneck' (version '1.3.5' currently installed).\n",
            "  from pandas.core import (\n"
          ]
        },
        {
          "name": "stdout",
          "output_type": "stream",
          "text": [
            "SPD 95% Confidence Interval: [0.000, 0.009]\tSPD Mean: 0.004\n",
            "---------------------------------------------------------------------------------------------\n",
            "EOD 95% Confidence Interval: [0.000, 0.007]\tEOD Mean: 0.003\n"
          ]
        }
      ],
      "source": [
        "# Statistical Parity Difference (SPD) and Equal Opportunity Difference (EOD) Calculation\n",
        "import numpy as np\n",
        "import pandas as pd\n",
        "np.random.seed(0)\n",
        "\n",
        "test = pd.read_csv('revision_foa_sarcasm_result.csv')\n",
        "\n",
        "\n",
        "# Function to calculate Statistical Parity Difference (SPD)\n",
        "def calculate_spd(male_pred, female_pred):\n",
        "    # Calculate probabilities of positive predictions for males and females\n",
        "    p_male = np.mean(male_pred == 1)  # Proportion of positive predictions for males\n",
        "    p_female = np.mean(female_pred == 1)  # Proportion of positive predictions for females\n",
        "    \n",
        "    # Return the absolute value of the Statistical Parity Difference\n",
        "    return np.abs(p_male - p_female)\n",
        "\n",
        "# Function to calculate Equal Opportunity Difference (EOD)\n",
        "def calculate_eod(male_pred, female_pred, y_true):\n",
        "    # True Positive Rate for males\n",
        "    tpr_male = np.mean((male_pred == 1) & (y_true == 1))  # True positives for males\n",
        "    \n",
        "    # True Positive Rate for females\n",
        "    tpr_female = np.mean((female_pred == 1) & (y_true == 1))  # True positives for females\n",
        "    \n",
        "    # Return the absolute value of the Equal Opportunity Difference\n",
        "    return np.abs(tpr_male - tpr_female)\n",
        "\n",
        "# Function to calculate bootstrap confidence intervals for SPD and EOD\n",
        "def bootstrap_ci_spd_eod(male_pred, female_pred, y_true, n_iterations=500, ci=95):\n",
        "    n = len(male_pred)\n",
        "    \n",
        "    # Arrays to store SPD and EOD for each bootstrap sample\n",
        "    spd_values = np.zeros(n_iterations)\n",
        "    eod_values = np.zeros(n_iterations)\n",
        "    \n",
        "    # Perform bootstrap sampling\n",
        "    for i in range(n_iterations):\n",
        "        # Resample with replacement\n",
        "        sample_indices = np.random.choice(n, size=n, replace=True)\n",
        "        male_pred_resampled = male_pred[sample_indices]\n",
        "        female_pred_resampled = female_pred[sample_indices]\n",
        "        y_true_resampled = y_true[sample_indices]\n",
        "        \n",
        "        # Calculate SPD and EOD for the resampled data\n",
        "        spd_values[i] = calculate_spd(male_pred_resampled, female_pred_resampled)\n",
        "        eod_values[i] = calculate_eod(male_pred_resampled, female_pred_resampled, y_true_resampled)\n",
        "    \n",
        "    # Calculate the mean of SPD and EOD\n",
        "    spd_mean = np.mean(spd_values)\n",
        "    eod_mean = np.mean(eod_values)\n",
        "    \n",
        "    # Calculate the confidence interval bounds for SPD and EOD\n",
        "    lower_percentile = (100 - ci) / 2\n",
        "    upper_percentile = 100 - lower_percentile\n",
        "    spd_lower_bound = np.percentile(spd_values, lower_percentile)\n",
        "    spd_upper_bound = np.percentile(spd_values, upper_percentile)\n",
        "    eod_lower_bound = np.percentile(eod_values, lower_percentile)\n",
        "    eod_upper_bound = np.percentile(eod_values, upper_percentile)\n",
        "    \n",
        "    return (np.abs(spd_mean), np.abs(spd_lower_bound), np.abs(spd_upper_bound)), (np.abs(eod_mean), np.abs(eod_lower_bound), np.abs(eod_upper_bound))\n",
        "\n",
        "\n",
        "y_true = test._original_label.values\n",
        "male_pred = test.pred_male_fod.values\n",
        "female_pred = test.pred_female_fod.values\n",
        "\n",
        "# Calculate bootstrap CI and mean for SPD and EOD\n",
        "(spd_mean, spd_lower, spd_upper), (eod_mean, eod_lower, eod_upper) = bootstrap_ci_spd_eod(\n",
        "    male_pred, female_pred, y_true, n_iterations=500, ci=95\n",
        ")\n",
        "\n",
        "print(f\"SPD 95% Confidence Interval: [{spd_lower:.3f}, {spd_upper:.3f}]\\tSPD Mean: {spd_mean:.3f}\")\n",
        "print('---------------------------------------------------------------------------------------------')\n",
        "print(f\"EOD 95% Confidence Interval: [{eod_lower:.3f}, {eod_upper:.3f}]\\tEOD Mean: {eod_mean:.3f}\")"
      ]
    },
    {
      "cell_type": "markdown",
      "metadata": {
        "id": "wW5FepoZe82-"
      },
      "source": [
        "# Mismatched Samples"
      ]
    },
    {
      "cell_type": "code",
      "execution_count": null,
      "metadata": {
        "id": "q8HKTVtae82_",
        "trusted": true
      },
      "outputs": [],
      "source": [
        "test[test['pred_male_fod']!=test['pred_female_fod']]"
      ]
    },
    {
      "cell_type": "code",
      "execution_count": null,
      "metadata": {
        "id": "huB7Novre82_",
        "trusted": true
      },
      "outputs": [],
      "source": []
    },
    {
      "cell_type": "code",
      "execution_count": null,
      "metadata": {
        "id": "LOguWC_te82_",
        "trusted": true
      },
      "outputs": [],
      "source": []
    },
    {
      "cell_type": "code",
      "execution_count": null,
      "metadata": {
        "id": "DyEuGUo5e82_",
        "trusted": true
      },
      "outputs": [],
      "source": []
    },
    {
      "cell_type": "code",
      "execution_count": null,
      "metadata": {
        "id": "09u4bajge82_",
        "trusted": true
      },
      "outputs": [],
      "source": []
    },
    {
      "cell_type": "code",
      "execution_count": null,
      "metadata": {
        "id": "fgKyiI1Ue82_",
        "trusted": true
      },
      "outputs": [],
      "source": []
    },
    {
      "cell_type": "code",
      "execution_count": null,
      "metadata": {
        "id": "DlorwQxde83E",
        "trusted": true
      },
      "outputs": [],
      "source": []
    },
    {
      "cell_type": "code",
      "execution_count": null,
      "metadata": {
        "colab": {
          "base_uri": "https://localhost:8080/"
        },
        "id": "Sei32hFueVxI",
        "outputId": "dddc7955-5b6e-4ef6-fef9-0ab59572faba"
      },
      "outputs": [
        {
          "name": "stdout",
          "output_type": "stream",
          "text": [
            "Total test data:  218 Total mismatch:  26 Accuracy:  0.8807339449541285\n"
          ]
        }
      ],
      "source": [
        "# After Finetuning\n",
        "x = sum(test['original_lebel'] != test['pred'])\n",
        "print('Total test data: ', len(test),'Total mismatch: ', x,'Accuracy: ', 1 - (x/len(test)) )"
      ]
    },
    {
      "cell_type": "code",
      "execution_count": null,
      "metadata": {
        "colab": {
          "base_uri": "https://localhost:8080/"
        },
        "id": "LaXDXYaGqMqj",
        "outputId": "5301b723-6d02-4227-ac9c-e8954d577b88"
      },
      "outputs": [
        {
          "name": "stdout",
          "output_type": "stream",
          "text": [
            "Total test data:  218 Total mismatch:  26 Accuracy:  0.8807339449541285\n"
          ]
        }
      ],
      "source": [
        "# After Finetuning\n",
        "x = sum(test['original_lebel'] != test['pred'])\n",
        "print('Total test data: ', len(test),'Total mismatch: ', x,'Accuracy: ', 1 - (x/len(test)) )"
      ]
    },
    {
      "cell_type": "code",
      "execution_count": null,
      "metadata": {
        "colab": {
          "base_uri": "https://localhost:8080/"
        },
        "id": "Ac7MeXrDrUbk",
        "outputId": "ad130218-42a3-4df6-d5b0-ea4cd30fd7f7"
      },
      "outputs": [
        {
          "data": {
            "text/plain": [
              "218"
            ]
          },
          "execution_count": 42,
          "metadata": {},
          "output_type": "execute_result"
        }
      ],
      "source": [
        "# Before fine tuning\n",
        "sum(data['Predicted Value for Original Sentence'] != data['Predicted Value for ner converted'])"
      ]
    },
    {
      "cell_type": "markdown",
      "metadata": {
        "id": "WUNf-O6uwm7X"
      },
      "source": [
        "\n",
        "# Prediction of NER Converted text data"
      ]
    },
    {
      "cell_type": "code",
      "execution_count": null,
      "metadata": {
        "colab": {
          "base_uri": "https://localhost:8080/"
        },
        "id": "ku2gs73uw0YV",
        "outputId": "bd30118d-d5cd-4f53-c6ad-fae475dd965e"
      },
      "outputs": [
        {
          "name": "stderr",
          "output_type": "stream",
          "text": [
            "100%|██████████| 14/14 [00:02<00:00,  4.99it/s]"
          ]
        },
        {
          "name": "stdout",
          "output_type": "stream",
          "text": [
            "Total test data:  218 Total mismatch:  35 Accuracy:  0.8394495412844036 Bias:  17\n"
          ]
        },
        {
          "name": "stderr",
          "output_type": "stream",
          "text": [
            "\n"
          ]
        }
      ],
      "source": [
        "import pandas as pd\n",
        "import numpy as np\n",
        "import transformers\n",
        "import torch\n",
        "import torch.nn as nn\n",
        "from torch.utils.data import Dataset\n",
        "from torch.utils.data import DataLoader\n",
        "import torch.optim as optim\n",
        "import torch.nn.functional as F\n",
        "from torchsummary import summary\n",
        "from tqdm import tqdm\n",
        "\n",
        "\n",
        "class BertDatasetNER(Dataset):\n",
        "    def __init__(self, data, tokenizer,max_length):\n",
        "        super(BertDatasetNER, self).__init__()\n",
        "\n",
        "        self.train_csv= data\n",
        "        self.tokenizer=tokenizer\n",
        "        self.target=self.train_csv.iloc[:,1]\n",
        "        self.max_length=max_length\n",
        "\n",
        "    def __len__(self):\n",
        "        return len(self.train_csv)\n",
        "\n",
        "    def __getitem__(self, index):\n",
        "\n",
        "        text1 = self.train_csv.iloc[index,1] #1 column for NER Converted\n",
        "\n",
        "        inputs = self.tokenizer.encode_plus(\n",
        "            text1 ,\n",
        "            None,\n",
        "            pad_to_max_length=True,\n",
        "            add_special_tokens=True,\n",
        "            return_attention_mask=True,\n",
        "            max_length=self.max_length,\n",
        "            truncation = True\n",
        "        )\n",
        "        ids = inputs[\"input_ids\"]\n",
        "        token_type_ids = inputs[\"token_type_ids\"]\n",
        "        mask = inputs[\"attention_mask\"]\n",
        "        try:\n",
        "          return torch.tensor(ids, dtype=torch.long), torch.tensor(token_type_ids, dtype=torch.long), torch.tensor(mask, dtype=torch.long), torch.tensor(self.train_csv.iloc[index, 3], dtype=torch.long)\n",
        "        except:\n",
        "          print(index, self.train_csv[index])\n",
        "\n",
        "\n",
        "\n",
        "dataset_test= BertDatasetNER(test, tokenizer, max_length=200)\n",
        "test_loader=DataLoader(dataset=dataset_test,batch_size=16, shuffle = False)\n",
        "p, emb = get_prediction(test_loader, masked_model)\n",
        "test['pred_ner'] = [x[0] for pred in p for x in pred.tolist()]\n",
        "x = sum(test['original_lebel'] != test['pred_ner'])\n",
        "print('Total test data: ', len(test),'Total mismatch: ', x,'Accuracy: ', 1 - (x/len(test)), 'Bias: ', sum(test['pred'] != test['pred_ner']) )"
      ]
    },
    {
      "cell_type": "code",
      "execution_count": null,
      "metadata": {
        "colab": {
          "base_uri": "https://localhost:8080/"
        },
        "id": "ox8AcHKRezQN",
        "outputId": "72fa7756-f877-436c-c90b-2fadb86b71cd"
      },
      "outputs": [
        {
          "name": "stdout",
          "output_type": "stream",
          "text": [
            "Total test data:  218 Total mismatch:  35 Accuracy:  0.8394495412844036 Bias:  17\n"
          ]
        }
      ],
      "source": [
        "print('Total test data: ', len(test),'Total mismatch: ', x,'Accuracy: ', 1 - (x/len(test)), 'Bias: ', sum(test['pred'] != test['pred_ner']) )"
      ]
    },
    {
      "cell_type": "code",
      "execution_count": null,
      "metadata": {
        "colab": {
          "base_uri": "https://localhost:8080/"
        },
        "id": "F_pH9dpmy4NO",
        "outputId": "a271f49c-d5ba-4db4-8a66-f6deee8f6755"
      },
      "outputs": [
        {
          "name": "stdout",
          "output_type": "stream",
          "text": [
            "Total test data:  218 Total mismatch:  36 Accuracy:  0.8348623853211009 Bias:  18\n"
          ]
        }
      ],
      "source": [
        "print('Total test data: ', len(test),'Total mismatch: ', x,'Accuracy: ', 1 - (x/len(test)), 'Bias: ', sum(test['pred'] != test['pred_ner']) )"
      ]
    },
    {
      "cell_type": "code",
      "execution_count": null,
      "metadata": {
        "id": "X9ioevru5oLX"
      },
      "outputs": [],
      "source": [
        "test.to_csv('/content/drive/MyDrive/#Research/# GB/baseline_senti_reSult.csv', index = False)"
      ]
    }
  ],
  "metadata": {
    "accelerator": "GPU",
    "colab": {
      "gpuType": "T4",
      "provenance": []
    },
    "kaggle": {
      "accelerator": "gpu",
      "dataSources": [
        {
          "datasetId": 7014662,
          "sourceId": 11230205,
          "sourceType": "datasetVersion"
        }
      ],
      "dockerImageVersionId": 30919,
      "isGpuEnabled": true,
      "isInternetEnabled": true,
      "language": "python",
      "sourceType": "notebook"
    },
    "kernelspec": {
      "display_name": "pytorch_gpu",
      "language": "python",
      "name": "python3"
    },
    "language_info": {
      "codemirror_mode": {
        "name": "ipython",
        "version": 3
      },
      "file_extension": ".py",
      "mimetype": "text/x-python",
      "name": "python",
      "nbconvert_exporter": "python",
      "pygments_lexer": "ipython3",
      "version": "3.9.15"
    }
  },
  "nbformat": 4,
  "nbformat_minor": 0
}
